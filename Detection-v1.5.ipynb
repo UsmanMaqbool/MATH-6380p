{
 "cells": [
  {
   "cell_type": "code",
   "execution_count": 14,
   "metadata": {},
   "outputs": [],
   "source": [
    "import cv2\n",
    "import os\n",
    "import re\n",
    "import numpy as np\n",
    "import matplotlib.pyplot as plt\n",
    "from sklearn.cluster import KMeans\n",
    "from sklearn.externals import joblib\n",
    "from sklearn import cluster\n"
   ]
  },
  {
   "cell_type": "code",
   "execution_count": 19,
   "metadata": {},
   "outputs": [
    {
     "name": "stdout",
     "output_type": "stream",
     "text": [
      "['6146_4739-4005_5986-10334_4917-25.bmp', '33.bmp', '7614_6285-4139_10751-8597_6032-21.bmp']\n"
     ]
    }
   ],
   "source": [
    "import os\n",
    "filename = []\n",
    "image_path = './Dataset/'\n",
    "save_path ='./Data/'\n",
    "files= os.listdir(image_path)\n",
    "for file in files:\n",
    "    if file.find('gt') == -1:      \n",
    "        filename.append(file)\n",
    "print(filename)       \n",
    "#filenamee = '33.bmp'\n",
    "#file_path = os.path.join(image_path, filenamee)"
   ]
  },
  {
   "cell_type": "code",
   "execution_count": 21,
   "metadata": {},
   "outputs": [],
   "source": [
    "def prepossing_img(image_path,file, save_path):\n",
    "    fileinfo = re.split(r\"[-,.]\",file)\n",
    "    filenum = fileinfo[-2]\n",
    "    file_path = os.path.join(image_path, file)\n",
    "    img = cv2.imread(file_path,1)\n",
    "    data = []\n",
    "    bbox = []\n",
    "    \n",
    "    ret,thresh1=cv2.threshold(img,110,255,cv2.THRESH_BINARY)\n",
    "    \n",
    "    kernel = np.ones((3,3),np.uint8)  \n",
    "    dilation = cv2.dilate(thresh1,kernel,iterations =2)\n",
    "    closing = cv2.morphologyEx(img, cv2.MORPH_CLOSE, kernel)\n",
    "    edge = cv2.Canny(dilation, 125, 255) \n",
    "    gray = cv2.cvtColor(dilation,cv2.COLOR_BGR2GRAY)\n",
    "    imge,contours, hierarchy = cv2.findContours(gray, cv2.RETR_TREE, cv2.CHAIN_APPROX_SIMPLE)\n",
    "    for i in contours:\n",
    "\n",
    "        x,y,w,h=cv2.boundingRect(i)\n",
    "        data.append([x+w/2,y+h/2])\n",
    "        bbox.append([w,h])\n",
    "        \n",
    "    np.savez(save_path+str(filenum)+'-box'+\".npz\", data=data,box=bbox)\n"
   ]
  },
  {
   "cell_type": "code",
   "execution_count": 22,
   "metadata": {},
   "outputs": [
    {
     "name": "stdout",
     "output_type": "stream",
     "text": [
      "preprocessing is done\n"
     ]
    }
   ],
   "source": [
    "for file in filename:\n",
    "    prepossing_img(image_path,file, save_path)\n",
    "print('preprocessing is done')\n",
    "    "
   ]
  },
  {
   "cell_type": "code",
   "execution_count": null,
   "metadata": {},
   "outputs": [],
   "source": [
    "# In[14]:\n",
    "\n",
    "\n",
    "data=np.array(data)\n",
    "print(data.shape)\n",
    "labels = range(1, 142)  \n",
    "plt.figure(figsize=(10, 7))  \n",
    "plt.subplots_adjust(bottom=0.1)  \n",
    "plt.scatter(data[:,0],data[:,1], label='True Position')\n",
    "\n",
    "for label, x, y in zip(labels, data[:, 0], data[:, 1]):  \n",
    "    plt.annotate(\n",
    "        label,\n",
    "        xy=(x, y), xytext=(-3, 3),\n",
    "        textcoords='offset points', ha='right', va='bottom')\n",
    "plt.show()  "
   ]
  },
  {
   "cell_type": "code",
   "execution_count": null,
   "metadata": {},
   "outputs": [],
   "source": [
    "# In[15]:\n",
    "\n",
    "\n",
    "from scipy.cluster.hierarchy import dendrogram, linkage  \n",
    "from matplotlib import pyplot as plt\n",
    "from scipy.cluster.hierarchy import cophenet\n",
    "from scipy.spatial.distance import pdist\n",
    "import time\n",
    "start = time.time()\n",
    "linked = linkage(data, 'average')\n",
    "labelList = range(1, np.array(data).shape[0]+1)\n",
    "\n",
    "plt.figure(figsize=(10, 7))  \n",
    "dendrogram(linked,  \n",
    "            orientation='top',\n",
    "            labels=labelList,\n",
    "            distance_sort='descending',\n",
    "            show_leaf_counts=True)\n",
    "plt.show()  \n",
    "c, coph_dists = cophenet(linked, pdist(data))\n",
    "print (c)\n",
    "# print(linked[0])\n",
    "print('end',time.time()-start)"
   ]
  },
  {
   "cell_type": "code",
   "execution_count": null,
   "metadata": {},
   "outputs": [],
   "source": [
    "# In[16]:\n",
    "\n",
    "\n",
    "\n",
    "from scipy.cluster.hierarchy import fcluster\n",
    "max_d = 3000\n",
    "clusters = fcluster(linked, max_d, criterion='distance')\n",
    "C=[]\n",
    "W=[]\n",
    "for i in range(max(clusters)):\n",
    "    \n",
    "    index = np.where(clusters==i+1)\n",
    "    points = np.take(data,index,0)\n",
    "    BB=points[0,:,:]\n",
    "    #print(BB)\n",
    "    mean=np.mean(BB,0)\n",
    "    print(mean)\n",
    "    C.append(mean)\n",
    "    W.append(np.sqrt(np.var(BB,0)))\n",
    "    print('var',np.sqrt(np.var(BB,0)))\n",
    "C=np.array(C)\n",
    "j=np.array([3600,3600])\n",
    "imga = cv2.imread('33.bmp',1)\n",
    "\n",
    "for i in C:\n",
    "    print('i',int(i[0]),int(i[1]))\n",
    "#     for j in centroids_b:\n",
    "    cv2.rectangle(imga, (int(i[0])-j[0]/2, int(i[1])-j[1]/2), (int(i[0]) + j[0]/2, int(i[1]) + j[1]/2), (255, 0, 0), 8)\n",
    "    #cv2.rectangle(imga, (50, 50), (5000, 5000), (222, 0, 0),5)\n",
    "    cv2.circle(imga,(int(i[0]),int(i[1])),100,(55,255,155),-1)#修改最后一个参数\n",
    "plt.figure(figsize=(30,30))\n",
    "plt.imshow(imga)\n",
    "    \n",
    "    \n",
    "    "
   ]
  },
  {
   "cell_type": "code",
   "execution_count": null,
   "metadata": {},
   "outputs": [],
   "source": [
    "# In[17]:\n",
    "\n",
    "\n",
    "import matplotlib.pyplot as plt  \n",
    "get_ipython().run_line_magic('matplotlib', 'inline')\n",
    "import numpy as np  \n",
    "shape = data.shape  \n",
    "import scipy.cluster.hierarchy as shc\n",
    "from sklearn.cluster import AgglomerativeClustering\n",
    "cluster = AgglomerativeClustering(n_clusters=3,affinity='l2', linkage='average',compute_full_tree='auto')  \n",
    "A=cluster.fit_predict(data)  \n",
    "plt.figure(figsize=(10, 7))  \n",
    "plt.scatter(data[:,0], data[:,1], c=cluster.labels_, cmap='rainbow')  "
   ]
  },
  {
   "cell_type": "code",
   "execution_count": null,
   "metadata": {},
   "outputs": [],
   "source": [
    "# In[23]:\n",
    "\n",
    "\n",
    "print(A)\n",
    "cluster.n_clusters\n",
    "center = []\n",
    "for i in range(cluster.n_clusters):\n",
    "    index = np.where(A==i)\n",
    "    points = np.take(data,index,0)\n",
    "    BB=points[0,:,:]\n",
    "    #print(BB)\n",
    "    mean=np.mean(BB,0)\n",
    "    print(mean)\n",
    "    center.append(mean)\n",
    "    print(np.sqrt(np.var(BB,0)))\n",
    "    "
   ]
  },
  {
   "cell_type": "code",
   "execution_count": null,
   "metadata": {},
   "outputs": [],
   "source": [
    "# In[24]:\n",
    "\n",
    "\n",
    "print(center)\n",
    "j=np.array([336,336])\n",
    "for i in center:\n",
    "#     for j in centroids_b:\n",
    "    cv2.rectangle(img, (int(i[0])-int(j[0]/2), int(i[1])-int(j[1])/2), (int(i[0]) + int(j[0])/2, int(i[1]) + int(j[1])/2), (222, 0, 0), 1)\n",
    "plt.figure(figsize=(20,20))\n",
    "plt.imshow(a)"
   ]
  },
  {
   "cell_type": "code",
   "execution_count": null,
   "metadata": {},
   "outputs": [],
   "source": [
    "# In[72]:\n",
    "\n",
    "\n",
    "estimator=KMeans(n_clusters=4)\n",
    "res=estimator.fit_predict(data)\n",
    "lable_pred=estimator.labels_\n",
    "centroids=estimator.cluster_centers_\n",
    "inertia=estimator.inertia_\n",
    "print (lable_pred)\n",
    "print (centroids)\n",
    "print (inertia)\n",
    "\n",
    "# estimator_b=KMeans(n_clusters=3)\n",
    "# res_b=estimator_b.fit_predict(data)\n",
    "# lable_pred_b=estimator_b.labels_\n",
    "# centroids_b=estimator_b.cluster_centers_\n",
    "# inertia_b=estimator_b.inertia_\n",
    "# print (lable_pred_b)\n",
    "# print (centroids_b)\n",
    "# print (inertia_b)\n",
    "\n",
    "\n",
    "# In[49]:\n",
    "\n",
    "\n",
    "centroids_b=np.array([[224,224],[336,336]])\n",
    "print(centroids_b.shape)\n",
    "for i in centroids:\n",
    "    for j in centroids_b:\n",
    "        cv2.rectangle(img, (int(i[0])-int(j[0]/2), int(i[1])-int(j[1])/2), \n",
    "                      (int(i[0]) + int(j[0])/2, int(i[1]) + int(j[1])/2), (222, 111, 0), 1)\n",
    "plt.figure(figsize=(20,20))\n",
    "plt.imshow(a)"
   ]
  }
 ],
 "metadata": {
  "kernelspec": {
   "display_name": "Python 3",
   "language": "python",
   "name": "python3"
  },
  "language_info": {
   "codemirror_mode": {
    "name": "ipython",
    "version": 3
   },
   "file_extension": ".py",
   "mimetype": "text/x-python",
   "name": "python",
   "nbconvert_exporter": "python",
   "pygments_lexer": "ipython3",
   "version": "3.7.1"
  }
 },
 "nbformat": 4,
 "nbformat_minor": 2
}
